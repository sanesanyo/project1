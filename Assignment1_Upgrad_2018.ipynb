{
 "cells": [
  {
   "cell_type": "code",
   "execution_count": 1,
   "metadata": {
    "collapsed": true
   },
   "outputs": [],
   "source": [
    "# importing pandas\n",
    "import pandas as pd"
   ]
  },
  {
   "cell_type": "code",
   "execution_count": 2,
   "metadata": {
    "collapsed": true
   },
   "outputs": [],
   "source": [
    "# Reading the data into dataframes\n",
    "companies=pd.read_csv('companies.txt',sep=\"\\t\",encoding = \"ISO-8859-1\")\n",
    "round2=pd.read_csv('rounds2.csv',encoding = \"ISO-8859-1\")"
   ]
  },
  {
   "cell_type": "code",
   "execution_count": 3,
   "metadata": {
    "collapsed": true
   },
   "outputs": [],
   "source": [
    "#Converting 'found_at' column to datetime\n",
    "def dtparser(x):\n",
    "    try:\n",
    "        return pd.datetime.strptime(x,'%d-%m-%Y')\n",
    "    except:\n",
    "        return pd.NaT\n",
    "\n",
    "companies.founded_at=companies.founded_at.apply(dtparser)"
   ]
  },
  {
   "cell_type": "code",
   "execution_count": 4,
   "metadata": {
    "collapsed": true
   },
   "outputs": [],
   "source": [
    "# Converting 'permalink' column in companies and 'company_permalink' column in \n",
    "#round2 into upper case so that we can merge them later using these columns\n",
    "companies.permalink=companies.permalink.apply(lambda x:x.upper())\n",
    "round2.company_permalink=round2.company_permalink.apply(lambda x:x.upper())"
   ]
  },
  {
   "cell_type": "code",
   "execution_count": 5,
   "metadata": {},
   "outputs": [
    {
     "name": "stdout",
     "output_type": "stream",
     "text": [
      "No. of unique companies in companies.txt is 66368\n"
     ]
    }
   ],
   "source": [
    "#No of unique companies in companies dataset\n",
    "unique_companies=companies['permalink'].unique()\n",
    "print(\"No. of unique companies in companies.txt is {}\".format(len(unique_companies)))"
   ]
  },
  {
   "cell_type": "code",
   "execution_count": 6,
   "metadata": {},
   "outputs": [
    {
     "name": "stdout",
     "output_type": "stream",
     "text": [
      "No. of unique companies in rounds2.csv is 66370\n"
     ]
    }
   ],
   "source": [
    "#No of unique compaues in round2\n",
    "unique_round2=round2['company_permalink'].unique()\n",
    "print(\"No. of unique companies in rounds2.csv is {}\".format(len(unique_round2)))"
   ]
  },
  {
   "cell_type": "code",
   "execution_count": 7,
   "metadata": {},
   "outputs": [
    {
     "name": "stdout",
     "output_type": "stream",
     "text": [
      "The column that can be used as unique key in companies.txt is 'permalink'\n"
     ]
    }
   ],
   "source": [
    "#Finding the unique key by finding the column with no missing values\n",
    "unique_key= companies[['permalink','name','homepage_url']].isnull().any()[companies[['permalink','name','homepage_url']].isnull().any()==False].index[0]\n",
    "print(\"The column that can be used as unique key in companies.txt is '{}'\".format(unique_key))"
   ]
  },
  {
   "cell_type": "code",
   "execution_count": 8,
   "metadata": {},
   "outputs": [
    {
     "name": "stdout",
     "output_type": "stream",
     "text": [
      "Yes, not all companies in rounds2.csv are present in companies.txt\n"
     ]
    }
   ],
   "source": [
    "#Checking if all round2 companies are present in companies.txt\n",
    "if sum(round2.company_permalink.isin(unique_companies))<len(round2.company_permalink):\n",
    "    print(\"Yes, not all companies in rounds2.csv are present in companies.txt\")\n",
    "else:\n",
    "    print(\"No, all companies in rounds2.csv are present in companies.txt\")"
   ]
  },
  {
   "cell_type": "code",
   "execution_count": 9,
   "metadata": {},
   "outputs": [
    {
     "name": "stdout",
     "output_type": "stream",
     "text": [
      "No of observations present in master_frame are 114942\n"
     ]
    }
   ],
   "source": [
    "#Merging the two dataframes using inner merge & doing it on company_permalink\n",
    "master_frame=pd.merge(round2,companies,how='inner',right_on='permalink',left_on='company_permalink')\n",
    "master_frame=master_frame.drop(['company_permalink'],axis=1)\n",
    "\n",
    "print(\"No of observations present in master_frame are {}\".format(len(master_frame)))"
   ]
  },
  {
   "cell_type": "code",
   "execution_count": 10,
   "metadata": {},
   "outputs": [
    {
     "name": "stdout",
     "output_type": "stream",
     "text": [
      "                    median_funding (in USD m)\n",
      "funding_round_type                           \n",
      "venture                                  5.00\n",
      "angel                                    0.40\n",
      "seed                                     0.28\n",
      "private_equity                          20.00\n",
      "                    average_funding (in USD m)\n",
      "funding_round_type                            \n",
      "venture                                  11.75\n",
      "angel                                     0.96\n",
      "seed                                      0.72\n",
      "private_equity                           73.31\n"
     ]
    }
   ],
   "source": [
    "\n",
    "#Grouping the median investment size with investment round type\n",
    "median_by_roundt= master_frame.groupby('funding_round_type')['raised_amount_usd'].median()\n",
    "average_by_roundt= master_frame.groupby('funding_round_type')['raised_amount_usd'].mean()\n",
    "\n",
    "#Median for venture, angel, seed, and private equity\n",
    "median_for_spark_rounds=median_by_roundt.loc[['venture','angel','seed','private_equity']]/10**6\n",
    "median_for_spark_rounds=median_for_spark_rounds.rename(\"median_funding (in USD m)\")\n",
    "print(pd.DataFrame(median_for_spark_rounds).apply(lambda x: round(x,2)))\n",
    "\n",
    "#Average for venture, angel, seed, and private equity\n",
    "average_for_spark_rounds=average_by_roundt.loc[['venture','angel','seed','private_equity']]/10**6\n",
    "average_for_spark_rounds=average_for_spark_rounds.rename(\"average_funding (in USD m)\")\n",
    "print(pd.DataFrame(average_for_spark_rounds).apply(lambda x: round(x,2)))"
   ]
  },
  {
   "cell_type": "code",
   "execution_count": 11,
   "metadata": {},
   "outputs": [
    {
     "name": "stdout",
     "output_type": "stream",
     "text": [
      "The most suitable investment type for Spark funds is venture investment\n"
     ]
    }
   ],
   "source": [
    "#Most suitable investment for Spark funds using 5m to 15m as investment limit\n",
    "suitable_investment=median_for_spark_rounds[(median_for_spark_rounds>=5)& (median_for_spark_rounds<=15)]\n",
    "suitable_investment_type=suitable_investment.index[0]\n",
    "print(\"The most suitable investment type for Spark funds is {} investment\".format(suitable_investment_type))"
   ]
  },
  {
   "cell_type": "code",
   "execution_count": 12,
   "metadata": {},
   "outputs": [
    {
     "name": "stdout",
     "output_type": "stream",
     "text": [
      "              total_funding (in USD m)\n",
      "country_code                          \n",
      "USA                          422510.84\n",
      "CHN                           39835.42\n",
      "GBR                           20245.63\n",
      "IND                           14391.86\n",
      "CAN                            9583.33\n",
      "FRA                            7259.54\n",
      "ISR                            6907.51\n",
      "DEU                            6346.96\n",
      "JPN                            3363.68\n"
     ]
    }
   ],
   "source": [
    "#Grouping the merged_data 'raised_amount_usd' column by country code and summing the values\n",
    "investment_by_countries=master_frame[(master_frame.funding_round_type==suitable_investment_type)].groupby('country_code')['raised_amount_usd'].sum()/10**6\n",
    "\n",
    "#Top 9 countries by investment in decresing order and finding top 3 english speaking countries in them\n",
    "investment_by_countries=investment_by_countries.rename(\"total_funding (in USD m)\")\n",
    "top9=pd.DataFrame(investment_by_countries.sort_values(ascending=False).apply(lambda x:round(x,2))[:9])\n",
    "top_countries=top9.index\n",
    "print(top9)"
   ]
  },
  {
   "cell_type": "code",
   "execution_count": 13,
   "metadata": {},
   "outputs": [
    {
     "name": "stdout",
     "output_type": "stream",
     "text": [
      "No 1 country for investment is USA\n",
      "No 2 country for investment is GBR\n",
      "No 3 country for investment is IND\n"
     ]
    }
   ],
   "source": [
    "#Top 3 English speaking countries\n",
    "top3_eng=[top_countries[0],*top_countries[2:4]]\n",
    "for i in range(3):\n",
    "    print(\"No {} country for investment is {}\".format(i+1,top3_eng[i])) "
   ]
  },
  {
   "cell_type": "code",
   "execution_count": 14,
   "metadata": {
    "collapsed": true
   },
   "outputs": [],
   "source": [
    "# Reading the mapping.csv data\n",
    "sectors=pd.read_csv('mapping.csv',encoding = \"ISO-8859-1\")\n",
    "\n",
    "#Renaming category_list to primary_sector and replacing '0' with 'na'\n",
    "sectors=sectors.rename(columns={'category_list':'primary_sector'})\n",
    "sectors['primary_sector']=sectors['primary_sector'].apply(lambda x:str(x).replace('0','na').lower())\n",
    "\n",
    "# Finding which main sectors categories belong to\n",
    "melted_sectors=pd.melt(sectors,id_vars=\"primary_sector\",var_name=\"main_sector\",value_name=\"id\")\n",
    "mapping_category_main_sectors=melted_sectors[(melted_sectors.id==1)][[\"primary_sector\",\"main_sector\"]]"
   ]
  },
  {
   "cell_type": "code",
   "execution_count": 15,
   "metadata": {
    "collapsed": true
   },
   "outputs": [],
   "source": [
    "# Function to strip the main sector from category list column\n",
    "def prim_sector(x):\n",
    "    try:\n",
    "        if x.find('|')!=-1:\n",
    "            return x[:x.find('|')].lower()\n",
    "        else:\n",
    "            return x.lower()\n",
    "    except:\n",
    "        return pd.NaT\n",
    "\n",
    "# Stripping primary sector name from category_list in master_Frame\n",
    "master_frame[\"primary_sector\"]=master_frame.category_list.apply(prim_sector)"
   ]
  },
  {
   "cell_type": "code",
   "execution_count": 16,
   "metadata": {},
   "outputs": [
    {
     "data": {
      "text/plain": [
       "111437"
      ]
     },
     "execution_count": 16,
     "metadata": {},
     "output_type": "execute_result"
    }
   ],
   "source": [
    "#Merging master frame with the concatinated dataframe \n",
    "master_frame=pd.merge(master_frame,mapping_category_main_sectors,how='inner',on='primary_sector')\n",
    "len(master_frame)"
   ]
  },
  {
   "cell_type": "code",
   "execution_count": 17,
   "metadata": {
    "collapsed": true
   },
   "outputs": [],
   "source": [
    "# Creating 3 data frames for funding type and countries \n",
    "\n",
    "# Country 1\n",
    "# Filtering the data frame to the country of interest\n",
    "D1=master_frame[(master_frame.country_code==top3_eng[0])& (master_frame.funding_round_type==suitable_investment_type)&(master_frame.raised_amount_usd>=5e6)&(master_frame.raised_amount_usd<=15e6)]"
   ]
  },
  {
   "cell_type": "code",
   "execution_count": 18,
   "metadata": {
    "collapsed": true
   },
   "outputs": [],
   "source": [
    "# Grouping by main_sector and then aggregating by total dollar raised and count of investments \n",
    "D1_group=D1.groupby(['main_sector']).agg({'raised_amount_usd':'sum','main_sector':'count'})\n",
    "\n",
    "# Renaming the columns in the group object\n",
    "D1_group=D1_group.rename(columns={'main_sector':'number_inv_main_sector','raised_amount_usd':'total_inv_main_sector'})\n",
    "\n",
    "# Merging the D2 dataframe created before with group object to get our final dataframe\n",
    "D1=pd.merge(D1,D1_group,left_on='main_sector',right_index=True,how='inner')"
   ]
  },
  {
   "cell_type": "code",
   "execution_count": 19,
   "metadata": {},
   "outputs": [
    {
     "name": "stdout",
     "output_type": "stream",
     "text": [
      "Total number of investments in USA were 12063\n",
      "Total amount of investments in USA were 107.8 USD billions \n",
      "The top sector based on count of investments in USA was 'Others'\n",
      "The second-best sector based on count of investments in USA was 'Social, Finance, Analytics, Advertising'\n",
      "The third-best sector based on count of investments in USA was 'Cleantech / Semiconductors'\n",
      "No of investments in top sector 'Others' in USA were 2950\n",
      "No of investments in second-best sector 'Social, Finance, Analytics, Advertising' in USA were 2714\n",
      "No of investment in third-best sector 'Cleantech / Semiconductors' in USA were 2350\n",
      "The company from country USA and the top sector 'Others' based on count of investments which received the highest funding is 'Virtustream'\n",
      "The company from country USA and the second-best sector 'Social, Finance, Analytics, Advertising' based on count of investments which received the highest funding is 'SST Inc. (Formerly ShotSpotter)'\n"
     ]
    }
   ],
   "source": [
    "# Finding total number of investments\n",
    "total_number_investment_1=D1_group.number_inv_main_sector.sum()\n",
    "\n",
    "# Finding total amount of investments\n",
    "total_amount_investment_1=D1_group.total_inv_main_sector.sum()\n",
    "\n",
    "# Finding top sector, second and third-best sector based on count of investments\n",
    "D1_group=D1_group.sort_values('number_inv_main_sector',ascending=False)\n",
    "top_sector_count_1=D1_group.index[0]\n",
    "second_sector_count_1=D1_group.index[1]\n",
    "third_sector_count_1=D1_group.index[2]\n",
    "\n",
    "# Counts for top, second-best and third-best sectors in terms of counts\n",
    "number_investment_top_sector_1=D1_group['number_inv_main_sector'][0]\n",
    "number_investment_second_sector_1=D1_group['number_inv_main_sector'][1]\n",
    "number_investment_third_sector_1=D1_group['number_inv_main_sector'][2]\n",
    "\n",
    "# Top companies in best and second best sectors\n",
    "top_company_name_1=D1[(D1.main_sector==top_sector_count_1)].groupby('name')['raised_amount_usd'].sum().sort_values(ascending=False).index[0]\n",
    "second_company_name_1=D1[(D1.main_sector==second_sector_count_1)].groupby('name')['raised_amount_usd'].sum().sort_values(ascending=False).index[0]\n",
    "\n",
    "print(\"Total number of investments in {} were {}\".format(top3_eng[0],total_number_investment_1))\n",
    "print(\"Total amount of investments in {} were {} USD billions \".format(top3_eng[0],round(total_amount_investment_1/10**9,1)))\n",
    "\n",
    "print(\"The top sector based on count of investments in {} was '{}'\".format(top3_eng[0],top_sector_count_1))\n",
    "print(\"The second-best sector based on count of investments in {} was '{}'\".format(top3_eng[0],second_sector_count_1))\n",
    "print(\"The third-best sector based on count of investments in {} was '{}'\".format(top3_eng[0],third_sector_count_1))\n",
    "\n",
    "print(\"No of investments in top sector '{}' in {} were {}\".format(top_sector_count_1,top3_eng[0],number_investment_top_sector_1))\n",
    "print(\"No of investments in second-best sector '{}' in {} were {}\".format(second_sector_count_1,top3_eng[0],number_investment_second_sector_1))\n",
    "print(\"No of investment in third-best sector '{}' in {} were {}\".format(third_sector_count_1,top3_eng[0],number_investment_third_sector_1))\n",
    "\n",
    "print(\"The company from country {} and the top sector '{}' based on count of investments which received the highest funding is '{}'\".format(top3_eng[0],top_sector_count_1,top_company_name_1))\n",
    "print(\"The company from country {} and the second-best sector '{}' based on count of investments which received the highest funding is '{}'\".format(top3_eng[0],second_sector_count_1,second_company_name_1))"
   ]
  },
  {
   "cell_type": "code",
   "execution_count": 20,
   "metadata": {},
   "outputs": [
    {
     "name": "stdout",
     "output_type": "stream",
     "text": [
      "Total number of investments in GBR were 621\n",
      "Total amount of investments in GBR were 5.4 USD billions \n",
      "The top sector based on count of investments in GBR was 'Others'\n",
      "The second-best sector based on count of investments in GBR was 'Social, Finance, Analytics, Advertising'\n",
      "The third-best sector based on count of investments in GBR was 'Cleantech / Semiconductors'\n",
      "No of investments in top sector 'Others' in GBR were 147\n",
      "No of investments in second-best sector 'Social, Finance, Analytics, Advertising' in GBR were 133\n",
      "No of investment in third-best sector 'Cleantech / Semiconductors' in GBR were 130\n",
      "The company from country GBR and the top sector 'Others' based on count of investments which received the highest funding is 'Electric Cloud'\n",
      "The company from country GBR and the second-best sector 'Social, Finance, Analytics, Advertising' based on count of investments which received the highest funding is 'Celltick Technologies'\n"
     ]
    }
   ],
   "source": [
    "# Country 2\n",
    "\n",
    "# Filtering the data frame to the country of interest\n",
    "D2=master_frame[(master_frame.country_code==top3_eng[1])& (master_frame.funding_round_type==suitable_investment_type)&(master_frame.raised_amount_usd>=5e6)&(master_frame.raised_amount_usd<=15e6)]\n",
    "# Grouping by main_sector and then aggregating by total dollar raised and count of investments \n",
    "D2_group=D2.groupby(['main_sector']).agg({'raised_amount_usd':'sum','main_sector':'count'})\n",
    "\n",
    "# Renaming the columns in the group object\n",
    "D2_group=D2_group.rename(columns={'main_sector':'number_inv_main_sector','raised_amount_usd':'total_inv_main_sector'})\n",
    "\n",
    "# Merging the D2 dataframe created before with group object to get our final dataframe\n",
    "D2=pd.merge(D2,D2_group,left_on='main_sector',right_index=True,how='inner')\n",
    "\n",
    "# Finding total number of investments\n",
    "total_number_investment_2=D2_group.number_inv_main_sector.sum()\n",
    "\n",
    "# Finding total amount of investments\n",
    "total_amount_investment_2=D2_group.total_inv_main_sector.sum()\n",
    "\n",
    "# Finding top sector, second and third-best sector based on count of investments\n",
    "D2_group=D2_group.sort_values('number_inv_main_sector',ascending=False)\n",
    "top_sector_count_2=D2_group.index[0]\n",
    "second_sector_count_2=D2_group.index[1]\n",
    "third_sector_count_2=D2_group.index[2]\n",
    "\n",
    "# Counts for top, second-best and third-best sectors in terms of counts\n",
    "number_investment_top_sector_2=D2_group['number_inv_main_sector'][0]\n",
    "number_investment_second_sector_2=D2_group['number_inv_main_sector'][1]\n",
    "number_investment_third_sector_2=D2_group['number_inv_main_sector'][2]\n",
    "\n",
    "# Top companies in best and second best sectors\n",
    "top_company_name_2=D2[(D2.main_sector==top_sector_count_2)].groupby('name')['raised_amount_usd'].sum().sort_values(ascending=False).index[0]\n",
    "second_company_name_2=D2[(D2.main_sector==second_sector_count_2)].groupby('name')['raised_amount_usd'].sum().sort_values(ascending=False).index[0]\n",
    "\n",
    "print(\"Total number of investments in {} were {}\".format(top3_eng[1],total_number_investment_2))\n",
    "print(\"Total amount of investments in {} were {} USD billions \".format(top3_eng[1],round(total_amount_investment_2/10**9,1)))\n",
    "\n",
    "print(\"The top sector based on count of investments in {} was '{}'\".format(top3_eng[1],top_sector_count_2))\n",
    "print(\"The second-best sector based on count of investments in {} was '{}'\".format(top3_eng[1],second_sector_count_2))\n",
    "print(\"The third-best sector based on count of investments in {} was '{}'\".format(top3_eng[1],third_sector_count_2))\n",
    "\n",
    "print(\"No of investments in top sector '{}' in {} were {}\".format(top_sector_count_2,top3_eng[1],number_investment_top_sector_2))\n",
    "print(\"No of investments in second-best sector '{}' in {} were {}\".format(second_sector_count_2,top3_eng[1],number_investment_second_sector_2))\n",
    "print(\"No of investment in third-best sector '{}' in {} were {}\".format(third_sector_count_2,top3_eng[1],number_investment_third_sector_2))\n",
    "\n",
    "print(\"The company from country {} and the top sector '{}' based on count of investments which received the highest funding is '{}'\".format(top3_eng[1],top_sector_count_2,top_company_name_2))\n",
    "print(\"The company from country {} and the second-best sector '{}' based on count of investments which received the highest funding is '{}'\".format(top3_eng[1],second_sector_count_2,second_company_name_2))"
   ]
  },
  {
   "cell_type": "code",
   "execution_count": 21,
   "metadata": {},
   "outputs": [
    {
     "name": "stdout",
     "output_type": "stream",
     "text": [
      "Total number of investments in IND were 328\n",
      "Total amount of investments in IND were 2.9 USD billions \n",
      "The top sector based on count of investments in IND was 'Others'\n",
      "The second-best sector based on count of investments in IND was 'Social, Finance, Analytics, Advertising'\n",
      "The third-best sector based on count of investments in IND was 'News, Search and Messaging'\n",
      "No of investments in top sector 'Others' in IND were 110\n",
      "No of investments in second-best sector 'Social, Finance, Analytics, Advertising' in IND were 60\n",
      "No of investment in third-best sector 'News, Search and Messaging' in IND were 52\n",
      "The company from country IND and the top sector 'Others' based on count of investments which received the highest funding is 'FirstCry.com'\n",
      "The company from country IND and the second-best sector 'Social, Finance, Analytics, Advertising' based on count of investments which received the highest funding is 'Manthan Systems'\n"
     ]
    }
   ],
   "source": [
    "# Country 3\n",
    "\n",
    "\n",
    "# Filtering the data frame to the country of interest\n",
    "D3=master_frame[(master_frame.country_code==top3_eng[2])& (master_frame.funding_round_type==suitable_investment_type)&(master_frame.raised_amount_usd>=5e6)&(master_frame.raised_amount_usd<=15e6)]\n",
    "# Grouping by main_sector and then aggregating by total dollar raised and count of investments\n",
    "D3_group=D3.groupby(['main_sector']).agg({'raised_amount_usd':'sum','main_sector':'count'})\n",
    "\n",
    "# Renaming the columns in the group object\n",
    "D3_group=D3_group.rename(columns={'main_sector':'number_inv_main_sector','raised_amount_usd':'total_inv_main_sector'})\n",
    "\n",
    "# Merging the D3 dataframe created before with group object to get our final dataframe\n",
    "D3=pd.merge(D3,D3_group,left_on='main_sector',right_index=True,how='inner')\n",
    "\n",
    "# Finding total number of investments\n",
    "total_number_investment_3=D3_group.number_inv_main_sector.sum()\n",
    "\n",
    "# Finding total amount of investments\n",
    "total_amount_investment_3=D3_group.total_inv_main_sector.sum()\n",
    "\n",
    "# Finding top sector, second and third-best sector based on count of investments\n",
    "D3_group=D3_group.sort_values('number_inv_main_sector',ascending=False)\n",
    "top_sector_count_3=D3_group.index[0]\n",
    "second_sector_count_3=D3_group.index[1]\n",
    "third_sector_count_3=D3_group.index[2]\n",
    "\n",
    "\n",
    "# Counts for top, second-best and third-best sectors in terms of counts\n",
    "number_investment_top_sector_3=D3_group['number_inv_main_sector'][0]\n",
    "number_investment_second_sector_3=D3_group['number_inv_main_sector'][1]\n",
    "number_investment_third_sector_3=D3_group['number_inv_main_sector'][2]\n",
    "\n",
    "# Top companies in best and second best sectors\n",
    "top_company_name_3=D3[(D3.main_sector==top_sector_count_3)].groupby('name')['raised_amount_usd'].sum().sort_values(ascending=False).index[0]\n",
    "second_company_name_3=D3[(D3.main_sector==second_sector_count_3)].groupby('name')['raised_amount_usd'].sum().sort_values(ascending=False).index[0]\n",
    "\n",
    "\n",
    "print(\"Total number of investments in {} were {}\".format(top3_eng[2],total_number_investment_3))\n",
    "print(\"Total amount of investments in {} were {} USD billions \".format(top3_eng[2],round(total_amount_investment_3/10**9,1)))\n",
    "\n",
    "print(\"The top sector based on count of investments in {} was '{}'\".format(top3_eng[2],top_sector_count_3))\n",
    "print(\"The second-best sector based on count of investments in {} was '{}'\".format(top3_eng[2],second_sector_count_3))\n",
    "print(\"The third-best sector based on count of investments in {} was '{}'\".format(top3_eng[2],third_sector_count_3))\n",
    "\n",
    "print(\"No of investments in top sector '{}' in {} were {}\".format(top_sector_count_3,top3_eng[2],number_investment_top_sector_3))\n",
    "print(\"No of investments in second-best sector '{}' in {} were {}\".format(second_sector_count_3,top3_eng[2],number_investment_second_sector_3))\n",
    "print(\"No of investment in third-best sector '{}' in {} were {}\".format(third_sector_count_3,top3_eng[2],number_investment_third_sector_3))\n",
    "\n",
    "print(\"The company from country {} and the top sector '{}' based on count of investments which received the highest funding is '{}'\".format(top3_eng[2],top_sector_count_3,top_company_name_3))\n",
    "print(\"The company from country {} and the second-best sector '{}' based on count of investments which received the highest funding is '{}'\".format(top3_eng[2],second_sector_count_3,second_company_name_3))"
   ]
  },
  {
   "cell_type": "code",
   "execution_count": 22,
   "metadata": {
    "collapsed": true
   },
   "outputs": [],
   "source": [
    "import matplotlib.pyplot as plt\n",
    "import seaborn as sns"
   ]
  },
  {
   "cell_type": "code",
   "execution_count": 23,
   "metadata": {},
   "outputs": [
    {
     "data": {
      "image/png": "[encoded data removed]",
      "text/plain": [
       "<matplotlib.figure.Figure at 0x1f089d3f6a0>"
      ]
     },
     "metadata": {},
     "output_type": "display_data"
    }
   ],
   "source": [
    "percent_by_roundt= master_frame.groupby('funding_round_type')['raised_amount_usd'].sum()*100/master_frame.raised_amount_usd.sum()\n",
    "percent_by_roundt= percent_by_roundt.rename('%age_by_round_type')\n",
    "average_by_roundt= average_by_roundt.rename('average_round_type_in_USD_m')\n",
    "data1=pd.concat([percent_by_roundt,average_by_roundt/10**6],axis=1).loc[['venture','seed','private_equity']]\n",
    "\n",
    "\n",
    "# Plot 1\n",
    "plt.figure(figsize=(30,20))\n",
    "\n",
    "# First subplot covering the %age investment by round type\n",
    "plt.subplot(1,2,1)\n",
    "sns.barplot(x=data1['%age_by_round_type'],y=data1.index)\n",
    "plt.title('Percentage Investment by Round Type')\n",
    "# Set x-axis label\n",
    "plt.ylabel('Round type')\n",
    "# Set y-axis label\n",
    "plt.xlabel('%age investment in round type')\n",
    "\n",
    "# Second subplot covering the average investment in a particular investment type\n",
    "plt.subplot(1,2,2)\n",
    "sns.barplot(x=data1['average_round_type_in_USD_m'],y=data1.index)\n",
    "plt.axvline(x=5,color='xkcd:darkgreen',label='Minimum Investment Size Constraint')\n",
    "plt.legend(loc='upper right')\n",
    "plt.axvline(x=15,color='xkcd:red',label='Maximum Investment Size Constraint')\n",
    "plt.legend(loc='upper right')\n",
    "plt.title('Average Investment by Round Type in USD m')\n",
    "# Set x-axis label\n",
    "plt.ylabel('Round type')\n",
    "# Set y-axis label\n",
    "plt.xlabel('Average_round_type_in_USD_m')\n",
    "plt.show()"
   ]
  },
  {
   "cell_type": "code",
   "execution_count": 24,
   "metadata": {},
   "outputs": [
    {
     "data": {
      "image/png": "[encoded data removed]",
      "text/plain": [
       "<matplotlib.figure.Figure at 0x1f089d28828>"
      ]
     },
     "metadata": {},
     "output_type": "display_data"
    }
   ],
   "source": [
    "# Plot 2\n",
    "\n",
    "plt.figure(figsize=(10,10))\n",
    "sns.barplot(y=top9['total_funding (in USD m)'],x=top9.index)\n",
    "\n",
    "# Set plot title\n",
    "plt.title('Funding Total in USD m for Top 9 Countries')\n",
    "# Set x-axis label\n",
    "plt.xlabel('Country Code')\n",
    "# Set y-axis label\n",
    "plt.ylabel('Total funding in USD m')\n",
    "plt.show()\n",
    "\n"
   ]
  },
  {
   "cell_type": "code",
   "execution_count": 91,
   "metadata": {},
   "outputs": [
    {
     "data": {
      "image/png": "[encoded data removed]",
      "text/plain": [
       "<matplotlib.figure.Figure at 0x1f08abc16a0>"
      ]
     },
     "metadata": {},
     "output_type": "display_data"
    }
   ],
   "source": [
    "# Plot 3\n",
    "fig=plt.figure(figsize=(15,8))\n",
    "\n",
    "\n",
    "# For top English speaking country\n",
    "plt.subplot(1,3,1)\n",
    "\n",
    "sns.barplot(x=D1_group.index[:3],y=D1_group['number_inv_main_sector'][:3])\n",
    "plt.title(top3_eng[0])\n",
    "plt.ylabel('# of Investments')\n",
    "plt.ylim(0,max(D1_group['number_inv_main_sector'])*1.05)\n",
    "\n",
    "plt.xticks(rotation=90)\n",
    "plt.xlabel('')\n",
    "\n",
    "\n",
    "# For second-best English speaking country\n",
    "plt.subplot(1,3,2)\n",
    "\n",
    "sns.barplot(x=D2_group.index[:3],y=D2_group['number_inv_main_sector'][:3])\n",
    "plt.title(top3_eng[1])\n",
    "plt.ylabel('')\n",
    "plt.yticks([])\n",
    "plt.ylim(0,max(D1_group['number_inv_main_sector'])*1.05)\n",
    "\n",
    "plt.xticks(rotation=90)\n",
    "plt.xlabel('')\n",
    "\n",
    "\n",
    "# For third-best English speaking country\n",
    "plt.subplot(1,3,3)\n",
    "\n",
    "sns.barplot(x=D3_group.index[:3],y=D3_group['number_inv_main_sector'][:3])\n",
    "plt.title(top3_eng[2])\n",
    "plt.ylabel('')\n",
    "plt.yticks([])\n",
    "plt.ylim(0,max(D1_group['number_inv_main_sector'])*1.05)\n",
    "\n",
    "\n",
    "plt.xticks(rotation=90)\n",
    "plt.xlabel('')\n",
    "\n",
    "# Giving name to the common x-axis as well as the title for the figure \n",
    "fig.text(0.5, -0.25, 'Sector Name', ha='center', va='center')\n",
    "plt.suptitle('Top 3 Sectors in Terms of # of Investments for Top 3 English Speaking Countries (left to right)')\n",
    "plt.subplots_adjust(wspace=0)\n",
    "\n",
    "plt.show()\n"
   ]
  },
  {
   "cell_type": "code",
   "execution_count": null,
   "metadata": {
    "collapsed": true
   },
   "outputs": [],
   "source": []
  }
 ],
 "metadata": {
  "kernelspec": {
   "display_name": "Python 3",
   "language": "python",
   "name": "python3"
  },
  "language_info": {
   "codemirror_mode": {
    "name": "ipython",
    "version": 3
   },
   "file_extension": ".py",
   "mimetype": "text/x-python",
   "name": "python",
   "nbconvert_exporter": "python",
   "pygments_lexer": "ipython3",
   "version": "3.6.3"
  }
 },
 "nbformat": 4,
 "nbformat_minor": 2
}
